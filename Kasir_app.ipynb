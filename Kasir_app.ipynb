{
  "nbformat": 4,
  "nbformat_minor": 0,
  "metadata": {
    "colab": {
      "provenance": [],
      "authorship_tag": "ABX9TyO4P20ab4bsutdtpEo/tzzv",
      "include_colab_link": true
    },
    "kernelspec": {
      "name": "python3",
      "display_name": "Python 3"
    },
    "language_info": {
      "name": "python"
    }
  },
  "cells": [
    {
      "cell_type": "markdown",
      "metadata": {
        "id": "view-in-github",
        "colab_type": "text"
      },
      "source": [
        "<a href=\"https://colab.research.google.com/github/yusuf782/Kasir-app/blob/main/Kasir_app.ipynb\" target=\"_parent\"><img src=\"https://colab.research.google.com/assets/colab-badge.svg\" alt=\"Open In Colab\"/></a>"
      ]
    },
    {
      "cell_type": "code",
      "execution_count": null,
      "metadata": {
        "colab": {
          "base_uri": "https://localhost:8080/",
          "height": 363
        },
        "id": "TdFbjUpGNbdn",
        "outputId": "ac5b4da1-7345-4a4e-bd5e-c3f6faa5b47e"
      },
      "outputs": [
        {
          "output_type": "error",
          "ename": "TclError",
          "evalue": "ignored",
          "traceback": [
            "\u001b[0;31m---------------------------------------------------------------------------\u001b[0m",
            "\u001b[0;31mTclError\u001b[0m                                  Traceback (most recent call last)",
            "\u001b[0;32m<ipython-input-3-e60b83136dc4>\u001b[0m in \u001b[0;36m<cell line: 4>\u001b[0;34m()\u001b[0m\n\u001b[1;32m      2\u001b[0m \u001b[0;32mfrom\u001b[0m \u001b[0mtkinter\u001b[0m \u001b[0;32mimport\u001b[0m \u001b[0mmessagebox\u001b[0m\u001b[0;34m\u001b[0m\u001b[0;34m\u001b[0m\u001b[0m\n\u001b[1;32m      3\u001b[0m \u001b[0;34m\u001b[0m\u001b[0m\n\u001b[0;32m----> 4\u001b[0;31m \u001b[0mapp\u001b[0m \u001b[0;34m=\u001b[0m \u001b[0mTk\u001b[0m\u001b[0;34m(\u001b[0m\u001b[0;34m)\u001b[0m\u001b[0;34m\u001b[0m\u001b[0;34m\u001b[0m\u001b[0m\n\u001b[0m\u001b[1;32m      5\u001b[0m \u001b[0;34m\u001b[0m\u001b[0m\n\u001b[1;32m      6\u001b[0m \u001b[0;31m#Variable\u001b[0m\u001b[0;34m\u001b[0m\u001b[0;34m\u001b[0m\u001b[0m\n",
            "\u001b[0;32m/usr/lib/python3.9/tkinter/__init__.py\u001b[0m in \u001b[0;36m__init__\u001b[0;34m(self, screenName, baseName, className, useTk, sync, use)\u001b[0m\n\u001b[1;32m   2268\u001b[0m                 \u001b[0mbaseName\u001b[0m \u001b[0;34m=\u001b[0m \u001b[0mbaseName\u001b[0m \u001b[0;34m+\u001b[0m \u001b[0mext\u001b[0m\u001b[0;34m\u001b[0m\u001b[0;34m\u001b[0m\u001b[0m\n\u001b[1;32m   2269\u001b[0m         \u001b[0minteractive\u001b[0m \u001b[0;34m=\u001b[0m \u001b[0;32mFalse\u001b[0m\u001b[0;34m\u001b[0m\u001b[0;34m\u001b[0m\u001b[0m\n\u001b[0;32m-> 2270\u001b[0;31m         \u001b[0mself\u001b[0m\u001b[0;34m.\u001b[0m\u001b[0mtk\u001b[0m \u001b[0;34m=\u001b[0m \u001b[0m_tkinter\u001b[0m\u001b[0;34m.\u001b[0m\u001b[0mcreate\u001b[0m\u001b[0;34m(\u001b[0m\u001b[0mscreenName\u001b[0m\u001b[0;34m,\u001b[0m \u001b[0mbaseName\u001b[0m\u001b[0;34m,\u001b[0m \u001b[0mclassName\u001b[0m\u001b[0;34m,\u001b[0m \u001b[0minteractive\u001b[0m\u001b[0;34m,\u001b[0m \u001b[0mwantobjects\u001b[0m\u001b[0;34m,\u001b[0m \u001b[0museTk\u001b[0m\u001b[0;34m,\u001b[0m \u001b[0msync\u001b[0m\u001b[0;34m,\u001b[0m \u001b[0muse\u001b[0m\u001b[0;34m)\u001b[0m\u001b[0;34m\u001b[0m\u001b[0;34m\u001b[0m\u001b[0m\n\u001b[0m\u001b[1;32m   2271\u001b[0m         \u001b[0;32mif\u001b[0m \u001b[0museTk\u001b[0m\u001b[0;34m:\u001b[0m\u001b[0;34m\u001b[0m\u001b[0;34m\u001b[0m\u001b[0m\n\u001b[1;32m   2272\u001b[0m             \u001b[0mself\u001b[0m\u001b[0;34m.\u001b[0m\u001b[0m_loadtk\u001b[0m\u001b[0;34m(\u001b[0m\u001b[0;34m)\u001b[0m\u001b[0;34m\u001b[0m\u001b[0;34m\u001b[0m\u001b[0m\n",
            "\u001b[0;31mTclError\u001b[0m: no display name and no $DISPLAY environment variable"
          ]
        }
      ],
      "source": [
        "from tkinter import *\n",
        "from tkinter import messagebox\n",
        "\n",
        "app = Tk()\n",
        "\n",
        "#Variable \n",
        "bakso = StringVar()\n",
        "mieayam = StringVar()\n",
        "eskelapa = StringVar()\n",
        "aqua = StringVar()\n",
        "tekstotal = StringVar()\n",
        "teksuang = StringVar()\n",
        "total = 0\n",
        "\n",
        "#fungsi\n",
        "def totalbelanja():\n",
        "    global bakso, mieayam, eskelapa, aqua, tekstotal, total\n",
        "    hargabakso = int(bakso.get()) * 15000\n",
        "    hargamieayam = int(mieayam.get()) * 10000\n",
        "    hargaeskelapa = int(eskelapa.get()) * 5000\n",
        "    hargaaqua = int(aqua.get()) * 2000\n",
        "    total = hargabakso + hargamieayam + hargaeskelapa + hargaaqua\n",
        "    tekstotal.set(str(total))\n",
        "def kembalian():\n",
        "    global total\n",
        "    uang = int(teksuang.get())\n",
        "    if uang >= total:\n",
        "        kembalian = uang - total\n",
        "        messagebox.showinfo(message='Kembalian kamu sebesar {}'.format(str(kembalian)))\n",
        "    else:\n",
        "        messagebox.showerror(message='Maaf uang kamu tidak cukup')\n",
        "def clear():\n",
        "    bakso.set('0')\n",
        "    mieayam.set('0')\n",
        "    eskelapa.set('0')\n",
        "    aqua.set('0')\n",
        "    tekstotal.set('0')\n",
        "    teksuang.set('0')\n",
        "\n",
        "\n",
        "\n",
        "app.geometry('400x500')\n",
        "app.configure(bg='#4263f5')\n",
        "#menu\n",
        "Label(app, text='WARUNG NOESANTARA', bg ='#4263f5',foreground='white',font='arial 12 bold').place(x=100,y=30)\n",
        "\n",
        "Label(app, text='1. Bakso', bg ='#4263f5',foreground='white',font='arial 11 bold').place(x=30,y=70)\n",
        "\n",
        "Label(app, text='2. Mie Ayam', bg ='#4263f5',foreground='white',font='arial 11 bold').place(x=30,y=120)\n",
        "\n",
        "Label(app, text='3. Es kelapa', bg ='#4263f5',foreground='white',font='arial 11 bold').place(x=30,y=170)\n",
        "\n",
        "Label(app, text='4. Air Mineral', bg ='#4263f5',foreground='white',font='arial 11 bold').place(x=30,y=220)\n",
        "\n",
        "\n",
        "#harga\n",
        "Label(app, text='Rp. 15.000', bg ='#4263f5',foreground='white',font='arial 11 bold').place(x=160,y=70)\n",
        "\n",
        "Label(app, text='Rp. 10.000', bg ='#4263f5',foreground='white',font='arial 11 bold').place(x=160,y=120)\n",
        "\n",
        "Label(app, text='Rp. 5000', bg ='#4263f5',foreground='white',font='arial 11 bold').place(x=160,y=170)\n",
        "\n",
        "Label(app, text='Rp. 2000', bg ='#4263f5',foreground='white',font='arial 11 bold').place(x=160,y=220)\n",
        " \n",
        " #spinbox\n",
        "Spinbox(app, from_=0 , to=100, width=4, font='arial 11', textvariable=bakso, command=totalbelanja).place(x=270,y=70)\n",
        "Spinbox(app, from_=0 , to=100, width=4, font='arial 11' ,textvariable=mieayam, command=totalbelanja).place(x=270,y=120)\n",
        "Spinbox(app, from_=0 , to=100, width=4, font='arial 11', textvariable=eskelapa, command=totalbelanja).place(x=270,y=170)\n",
        "Spinbox(app, from_=0 , to=100, width=4, font='arial 11', textvariable=aqua, command=totalbelanja).place(x=270,y=220)\n",
        "\n",
        "\n",
        "Label(app, text='Masukan uang anda', bg ='#4263f5',foreground='white',font='arial 12 ').place(x=30,y=280)\n",
        "\n",
        "Entry(app,textvariable=teksuang).place(x=40,y=300)\n",
        "\n",
        "#label total\n",
        "Label(app, text='Rp.', bg ='#4263f5',foreground='white',font='arial 11 bold').place(x=250,y=300)\n",
        "Label(app, textvariable = tekstotal , bg ='#4263f5',foreground='white',font='arial 11 bold').place(x=280,y=300)\n",
        "\n",
        "#tombol\n",
        "Button(app, text='Total', bg ='green',foreground='white',font='arial 12 ',width=10, command=kembalian).place(x=30,y=330)\n",
        "Button(app, text='Clear', bg ='green',foreground='white',font='arial 12 ', width=10, command=clear).place(x=270,y=330)\n",
        "app.mainloop()\n",
        "app.mainloop()"
      ]
    }
  ]
}